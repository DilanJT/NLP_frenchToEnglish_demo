{
 "cells": [
  {
   "cell_type": "code",
   "execution_count": 15,
   "id": "5c85bc66",
   "metadata": {
    "scrolled": true
   },
   "outputs": [],
   "source": [
    "import numpy as np\n",
    "import tensorflow as tf\n",
    "from tensorflow import keras"
   ]
  },
  {
   "cell_type": "markdown",
   "id": "544b500f",
   "metadata": {},
   "source": [
    "### Configuration"
   ]
  },
  {
   "cell_type": "code",
   "execution_count": 16,
   "id": "cbe08f30",
   "metadata": {},
   "outputs": [],
   "source": [
    "batch_size = 64 #Batch size for trainning\n",
    "epochs = 100 #Number of epohs to train for \n",
    "latent_dim = 256 #Latent dimensionality of the encoding space.\n",
    "num_samples = 10000 #number of sampples to train\n",
    "data_path = \"fra-eng/fra.txt\""
   ]
  },
  {
   "cell_type": "markdown",
   "id": "a3d7dacf",
   "metadata": {},
   "source": [
    "### Prepare the data"
   ]
  },
  {
   "cell_type": "code",
   "execution_count": 17,
   "id": "dbd22a7d",
   "metadata": {},
   "outputs": [],
   "source": [
    "#vectorize the data\n",
    "input_texts = []\n",
    "target_texts = []\n",
    "input_characters = set()\n",
    "target_characters = set()\n",
    "\n",
    "with open(data_path, \"r\", encoding=\"utf-8\") as f:\n",
    "    lines = f.read().split(\"\\n\")\n",
    "\n"
   ]
  },
  {
   "cell_type": "code",
   "execution_count": 18,
   "id": "7e201876",
   "metadata": {},
   "outputs": [],
   "source": [
    "for line in lines[: min(num_samples, len(lines) - 1)]:\n",
    "    input_text, target_text, _ = line.split('\\t')\n",
    "    # We use \"tab\" as the \"start sequence\" charachter\n",
    "    # for the targets, and \"\\n\" as \"end sequence\" charachter.\n",
    "    \n",
    "    target_text = \"\\t\" + target_text + \"\\n\"\n",
    "    input_texts.append(input_text)\n",
    "    target_texts.append(target_text)\n",
    "    for char in input_text:\n",
    "        if char not in input_characters:\n",
    "            input_characters.add(char)\n",
    "    for char in target_text:\n",
    "        if char not in target_characters:\n",
    "            target_characters.add(char)\n",
    "            "
   ]
  },
  {
   "cell_type": "code",
   "execution_count": 19,
   "id": "5059f817",
   "metadata": {},
   "outputs": [],
   "source": [
    "input_characters = sorted(list(input_characters))\n",
    "target_characters = sorted(list(target_characters))\n",
    "num_encoder_tokens = len(input_characters)\n",
    "num_decoder_tokens = len(target_characters)\n",
    "max_encoder_seq_length = max([len(txt) for txt in input_texts])\n",
    "max_decoder_seq_length = max([len(txt) for txt in target_texts])\n"
   ]
  },
  {
   "cell_type": "code",
   "execution_count": 20,
   "id": "0385a671",
   "metadata": {},
   "outputs": [
    {
     "name": "stdout",
     "output_type": "stream",
     "text": [
      "Number of samples: 10000\n",
      "Number of unique input tokens: 71\n",
      "Number of unique output tokens: 93\n",
      "Max sequence length for inputs: 15\n",
      "Max sequence length for outputs: 59\n"
     ]
    }
   ],
   "source": [
    "print(\"Number of samples:\", len(input_texts))\n",
    "print(\"Number of unique input tokens:\", num_encoder_tokens)\n",
    "print(\"Number of unique output tokens:\", num_decoder_tokens)\n",
    "print(\"Max sequence length for inputs:\", max_encoder_seq_length)\n",
    "print(\"Max sequence length for outputs:\", max_decoder_seq_length)   \n"
   ]
  },
  {
   "cell_type": "code",
   "execution_count": 21,
   "id": "b43bae54",
   "metadata": {},
   "outputs": [],
   "source": [
    "input_token_index = dict([char, i] for i, char in enumerate(input_characters))\n",
    "target_token_index = dict([char, i] for i, char in enumerate(target_characters))"
   ]
  },
  {
   "cell_type": "code",
   "execution_count": 22,
   "id": "4fc52632",
   "metadata": {},
   "outputs": [],
   "source": [
    "encoder_input_data = np.zeros((len(input_texts), max_encoder_seq_length, num_encoder_tokens), dtype=\"float32\")\n",
    "decoder_input_data = np.zeros((len(input_texts), max_decoder_seq_length, num_decoder_tokens), dtype=\"float32\")\n",
    "decoder_target_data = np.zeros((len(input_texts), max_decoder_seq_length, num_decoder_tokens), dtype=\"float32\")"
   ]
  },
  {
   "cell_type": "code",
   "execution_count": 23,
   "id": "1ce29af6",
   "metadata": {},
   "outputs": [],
   "source": [
    "for i, (input_text, target_text) in enumerate(zip(input_texts, target_texts)):\n",
    "    for t, char in enumerate(input_text):\n",
    "        encoder_input_data[i, t, input_token_index[char]] = 1.0\n",
    "    encoder_input_data[i, t + 1:, input_token_index[\" \"]] = 1.0\n",
    "    for t, char in enumerate(target_text):\n",
    "        # decoder_target_data is ahead of decoder_input_data by one timestep\n",
    "        decoder_input_data[i, t, target_token_index[char]] = 1.0\n",
    "        if t > 0:\n",
    "            # decoder_target_data will be ahead by one timestep\n",
    "            # and will not include the start character.\n",
    "            decoder_target_data[i, t - 1, target_token_index[char]] = 1.0\n",
    "            if t > 0:\n",
    "                # decoder_target_data will be ahead by one timestep\n",
    "                # and will not include the start character.\n",
    "                decoder_target_data[i, t - 1, target_token_index[char]] = 1.0\n",
    "    decoder_input_data[i, t + 1:, target_token_index[\" \"]] = 1.0\n",
    "    decoder_target_data[i, t:, target_token_index[\" \"]] = 1.0"
   ]
  },
  {
   "attachments": {},
   "cell_type": "markdown",
   "id": "daa1b12b",
   "metadata": {},
   "source": [
    "### Build the model"
   ]
  },
  {
   "cell_type": "code",
   "execution_count": 24,
   "id": "4c8826d6",
   "metadata": {},
   "outputs": [],
   "source": [
    "# Define an input sequence and process it.\n",
    "encoder_inputs = keras.Input(shape=(None, num_encoder_tokens))\n",
    "encoder = keras.layers.LSTM(latent_dim, return_state=True)\n",
    "encoder_outputs, state_h, state_c = encoder(encoder_inputs)\n",
    "# We discard `encoder_outputs` and only keep the states.\n",
    "encoder_states = [state_h, state_c]\n",
    "\n",
    "# Set up the decoder, using `encoder_states` as initial state.\n",
    "decoder_inputs = keras.Input(shape=(None, num_decoder_tokens))\n",
    "\n",
    "# We set up our decoder to return full output sequences,\n",
    "# and to return internal states as well. We don't use the\n",
    "# return states in the training model, but we will use them in inference.\n",
    "decoder_lstm = keras.layers.LSTM(latent_dim, return_sequences=True, return_state=True)\n",
    "decoder_outputs, _, _ = decoder_lstm(decoder_inputs, initial_state=encoder_states)\n",
    "decoder_dense = keras.layers.Dense(num_decoder_tokens, activation=\"softmax\")\n",
    "decoder_outputs = decoder_dense(decoder_outputs)\n",
    "\n",
    "# Define the model that will turn\n",
    "# `encoder_input_data` & `decoder_input_data` into `decoder_target_data`\n",
    "model = keras.Model([encoder_inputs, decoder_inputs], decoder_outputs)"
   ]
  },
  {
   "attachments": {},
   "cell_type": "markdown",
   "id": "f636ca9d",
   "metadata": {},
   "source": [
    "### Train the model"
   ]
  },
  {
   "cell_type": "code",
   "execution_count": 25,
   "id": "8e77fd71",
   "metadata": {},
   "outputs": [
    {
     "name": "stdout",
     "output_type": "stream",
     "text": [
      "Epoch 1/100\n",
      "125/125 [==============================] - 46s 321ms/step - loss: 1.2276 - accuracy: 0.7309 - val_loss: 1.1229 - val_accuracy: 0.7081\n",
      "Epoch 2/100\n",
      "125/125 [==============================] - 43s 347ms/step - loss: 0.9408 - accuracy: 0.7481 - val_loss: 0.9991 - val_accuracy: 0.7101\n",
      "Epoch 3/100\n",
      "125/125 [==============================] - 39s 316ms/step - loss: 0.8482 - accuracy: 0.7656 - val_loss: 0.9057 - val_accuracy: 0.7437\n",
      "Epoch 4/100\n",
      "125/125 [==============================] - 35s 278ms/step - loss: 0.7581 - accuracy: 0.7896 - val_loss: 0.8269 - val_accuracy: 0.7664\n",
      "Epoch 5/100\n",
      "125/125 [==============================] - 35s 283ms/step - loss: 0.6784 - accuracy: 0.8062 - val_loss: 0.7703 - val_accuracy: 0.7715\n",
      "Epoch 6/100\n",
      "125/125 [==============================] - 39s 313ms/step - loss: 0.6341 - accuracy: 0.8160 - val_loss: 0.7164 - val_accuracy: 0.7907\n",
      "Epoch 7/100\n",
      "125/125 [==============================] - 35s 276ms/step - loss: 0.6044 - accuracy: 0.8228 - val_loss: 0.6895 - val_accuracy: 0.7962\n",
      "Epoch 8/100\n",
      "125/125 [==============================] - 35s 277ms/step - loss: 0.5812 - accuracy: 0.8290 - val_loss: 0.6683 - val_accuracy: 0.8065\n",
      "Epoch 9/100\n",
      "125/125 [==============================] - 34s 275ms/step - loss: 0.5614 - accuracy: 0.8341 - val_loss: 0.6544 - val_accuracy: 0.8103\n",
      "Epoch 10/100\n",
      "125/125 [==============================] - 35s 283ms/step - loss: 0.5442 - accuracy: 0.8396 - val_loss: 0.6264 - val_accuracy: 0.8183\n",
      "Epoch 11/100\n",
      "125/125 [==============================] - 35s 280ms/step - loss: 0.5297 - accuracy: 0.8436 - val_loss: 0.6123 - val_accuracy: 0.8214\n",
      "Epoch 12/100\n",
      "125/125 [==============================] - 35s 277ms/step - loss: 0.5150 - accuracy: 0.8476 - val_loss: 0.6031 - val_accuracy: 0.8249\n",
      "Epoch 13/100\n",
      "125/125 [==============================] - 34s 275ms/step - loss: 0.5025 - accuracy: 0.8515 - val_loss: 0.5926 - val_accuracy: 0.8275\n",
      "Epoch 14/100\n",
      "125/125 [==============================] - 35s 279ms/step - loss: 0.4917 - accuracy: 0.8544 - val_loss: 0.5756 - val_accuracy: 0.8314\n",
      "Epoch 15/100\n",
      "125/125 [==============================] - 35s 282ms/step - loss: 0.4803 - accuracy: 0.8576 - val_loss: 0.5657 - val_accuracy: 0.8327\n",
      "Epoch 16/100\n",
      "125/125 [==============================] - 35s 278ms/step - loss: 0.4698 - accuracy: 0.8606 - val_loss: 0.5549 - val_accuracy: 0.8384\n",
      "Epoch 17/100\n",
      "125/125 [==============================] - 34s 275ms/step - loss: 0.4603 - accuracy: 0.8636 - val_loss: 0.5488 - val_accuracy: 0.8383\n",
      "Epoch 18/100\n",
      "125/125 [==============================] - 35s 278ms/step - loss: 0.4507 - accuracy: 0.8661 - val_loss: 0.5411 - val_accuracy: 0.8422\n",
      "Epoch 19/100\n",
      "125/125 [==============================] - 36s 286ms/step - loss: 0.4431 - accuracy: 0.8683 - val_loss: 0.5385 - val_accuracy: 0.8409\n",
      "Epoch 20/100\n",
      "125/125 [==============================] - 37s 295ms/step - loss: 0.4344 - accuracy: 0.8709 - val_loss: 0.5262 - val_accuracy: 0.8468\n",
      "Epoch 21/100\n",
      "125/125 [==============================] - 36s 285ms/step - loss: 0.4267 - accuracy: 0.8730 - val_loss: 0.5224 - val_accuracy: 0.8471\n",
      "Epoch 22/100\n",
      "125/125 [==============================] - 35s 280ms/step - loss: 0.4202 - accuracy: 0.8746 - val_loss: 0.5124 - val_accuracy: 0.8493\n",
      "Epoch 23/100\n",
      "125/125 [==============================] - 35s 283ms/step - loss: 0.4119 - accuracy: 0.8770 - val_loss: 0.5067 - val_accuracy: 0.8523\n",
      "Epoch 24/100\n",
      "125/125 [==============================] - 36s 289ms/step - loss: 0.4053 - accuracy: 0.8787 - val_loss: 0.5040 - val_accuracy: 0.8530\n",
      "Epoch 25/100\n",
      "125/125 [==============================] - 36s 285ms/step - loss: 0.3988 - accuracy: 0.8809 - val_loss: 0.5032 - val_accuracy: 0.8526\n",
      "Epoch 26/100\n",
      "125/125 [==============================] - 34s 273ms/step - loss: 0.3924 - accuracy: 0.8825 - val_loss: 0.4953 - val_accuracy: 0.8546\n",
      "Epoch 27/100\n",
      "125/125 [==============================] - 34s 274ms/step - loss: 0.3865 - accuracy: 0.8844 - val_loss: 0.4955 - val_accuracy: 0.8559\n",
      "Epoch 28/100\n",
      "125/125 [==============================] - 36s 286ms/step - loss: 0.3812 - accuracy: 0.8863 - val_loss: 0.4877 - val_accuracy: 0.8582\n",
      "Epoch 29/100\n",
      "125/125 [==============================] - 36s 285ms/step - loss: 0.3749 - accuracy: 0.8875 - val_loss: 0.4786 - val_accuracy: 0.8599\n",
      "Epoch 30/100\n",
      "125/125 [==============================] - 37s 294ms/step - loss: 0.3698 - accuracy: 0.8893 - val_loss: 0.4791 - val_accuracy: 0.8594\n",
      "Epoch 31/100\n",
      "125/125 [==============================] - 34s 273ms/step - loss: 0.3642 - accuracy: 0.8909 - val_loss: 0.4745 - val_accuracy: 0.8619\n",
      "Epoch 32/100\n",
      "125/125 [==============================] - 36s 284ms/step - loss: 0.3589 - accuracy: 0.8924 - val_loss: 0.4704 - val_accuracy: 0.8621\n",
      "Epoch 33/100\n",
      "125/125 [==============================] - 35s 277ms/step - loss: 0.3542 - accuracy: 0.8935 - val_loss: 0.4673 - val_accuracy: 0.8634\n",
      "Epoch 34/100\n",
      "125/125 [==============================] - 34s 272ms/step - loss: 0.3494 - accuracy: 0.8954 - val_loss: 0.4698 - val_accuracy: 0.8637\n",
      "Epoch 35/100\n",
      "125/125 [==============================] - 34s 275ms/step - loss: 0.3448 - accuracy: 0.8965 - val_loss: 0.4664 - val_accuracy: 0.8639\n",
      "Epoch 36/100\n",
      "125/125 [==============================] - 35s 282ms/step - loss: 0.3401 - accuracy: 0.8981 - val_loss: 0.4624 - val_accuracy: 0.8652\n",
      "Epoch 37/100\n",
      "125/125 [==============================] - 35s 283ms/step - loss: 0.3360 - accuracy: 0.8992 - val_loss: 0.4602 - val_accuracy: 0.8665\n",
      "Epoch 38/100\n",
      "125/125 [==============================] - 35s 281ms/step - loss: 0.3315 - accuracy: 0.9006 - val_loss: 0.4608 - val_accuracy: 0.8669\n",
      "Epoch 39/100\n",
      "125/125 [==============================] - 34s 274ms/step - loss: 0.3268 - accuracy: 0.9019 - val_loss: 0.4677 - val_accuracy: 0.8652\n",
      "Epoch 40/100\n",
      "125/125 [==============================] - 34s 273ms/step - loss: 0.3231 - accuracy: 0.9031 - val_loss: 0.4652 - val_accuracy: 0.8663\n",
      "Epoch 41/100\n",
      "125/125 [==============================] - 34s 275ms/step - loss: 0.3190 - accuracy: 0.9042 - val_loss: 0.4597 - val_accuracy: 0.8689\n",
      "Epoch 42/100\n",
      "125/125 [==============================] - 35s 278ms/step - loss: 0.3147 - accuracy: 0.9057 - val_loss: 0.4567 - val_accuracy: 0.8681\n",
      "Epoch 43/100\n",
      "125/125 [==============================] - 34s 273ms/step - loss: 0.3108 - accuracy: 0.9067 - val_loss: 0.4592 - val_accuracy: 0.8678\n",
      "Epoch 44/100\n",
      "125/125 [==============================] - 34s 272ms/step - loss: 0.3073 - accuracy: 0.9078 - val_loss: 0.4609 - val_accuracy: 0.8673\n",
      "Epoch 45/100\n",
      "125/125 [==============================] - 34s 273ms/step - loss: 0.3028 - accuracy: 0.9092 - val_loss: 0.4558 - val_accuracy: 0.8692\n",
      "Epoch 46/100\n",
      "125/125 [==============================] - 36s 291ms/step - loss: 0.2994 - accuracy: 0.9101 - val_loss: 0.4573 - val_accuracy: 0.8691\n",
      "Epoch 47/100\n",
      "125/125 [==============================] - 34s 276ms/step - loss: 0.2956 - accuracy: 0.9112 - val_loss: 0.4601 - val_accuracy: 0.8689\n",
      "Epoch 48/100\n",
      "125/125 [==============================] - 35s 277ms/step - loss: 0.2917 - accuracy: 0.9123 - val_loss: 0.4585 - val_accuracy: 0.8686\n",
      "Epoch 49/100\n",
      "125/125 [==============================] - 34s 274ms/step - loss: 0.2883 - accuracy: 0.9133 - val_loss: 0.4590 - val_accuracy: 0.8690\n",
      "Epoch 50/100\n",
      "125/125 [==============================] - 35s 279ms/step - loss: 0.2852 - accuracy: 0.9143 - val_loss: 0.4567 - val_accuracy: 0.8706\n",
      "Epoch 51/100\n",
      "125/125 [==============================] - 34s 272ms/step - loss: 0.2810 - accuracy: 0.9154 - val_loss: 0.4536 - val_accuracy: 0.8712\n",
      "Epoch 52/100\n",
      "125/125 [==============================] - 34s 272ms/step - loss: 0.2783 - accuracy: 0.9164 - val_loss: 0.4590 - val_accuracy: 0.8695\n",
      "Epoch 53/100\n",
      "125/125 [==============================] - 34s 276ms/step - loss: 0.2744 - accuracy: 0.9174 - val_loss: 0.4548 - val_accuracy: 0.8712\n",
      "Epoch 54/100\n",
      "125/125 [==============================] - 34s 272ms/step - loss: 0.2713 - accuracy: 0.9186 - val_loss: 0.4588 - val_accuracy: 0.8705\n",
      "Epoch 55/100\n",
      "125/125 [==============================] - 35s 281ms/step - loss: 0.2677 - accuracy: 0.9195 - val_loss: 0.4587 - val_accuracy: 0.8713\n",
      "Epoch 56/100\n",
      "125/125 [==============================] - 34s 273ms/step - loss: 0.2642 - accuracy: 0.9204 - val_loss: 0.4593 - val_accuracy: 0.8716\n",
      "Epoch 57/100\n",
      "125/125 [==============================] - 34s 275ms/step - loss: 0.2609 - accuracy: 0.9213 - val_loss: 0.4613 - val_accuracy: 0.8713\n",
      "Epoch 58/100\n",
      "125/125 [==============================] - 34s 271ms/step - loss: 0.2585 - accuracy: 0.9221 - val_loss: 0.4617 - val_accuracy: 0.8717\n",
      "Epoch 59/100\n",
      "125/125 [==============================] - 34s 274ms/step - loss: 0.2552 - accuracy: 0.9231 - val_loss: 0.4587 - val_accuracy: 0.8724\n",
      "Epoch 60/100\n",
      "125/125 [==============================] - 34s 272ms/step - loss: 0.2521 - accuracy: 0.9239 - val_loss: 0.4660 - val_accuracy: 0.8699\n",
      "Epoch 61/100\n",
      "125/125 [==============================] - 35s 282ms/step - loss: 0.2486 - accuracy: 0.9248 - val_loss: 0.4619 - val_accuracy: 0.8723\n",
      "Epoch 62/100\n",
      "125/125 [==============================] - 33s 263ms/step - loss: 0.2456 - accuracy: 0.9259 - val_loss: 0.4621 - val_accuracy: 0.8725\n",
      "Epoch 63/100\n",
      "125/125 [==============================] - 33s 262ms/step - loss: 0.2431 - accuracy: 0.9266 - val_loss: 0.4612 - val_accuracy: 0.8731\n",
      "Epoch 64/100\n",
      "125/125 [==============================] - 32s 258ms/step - loss: 0.2398 - accuracy: 0.9276 - val_loss: 0.4633 - val_accuracy: 0.8728\n",
      "Epoch 65/100\n",
      "125/125 [==============================] - 32s 257ms/step - loss: 0.2372 - accuracy: 0.9283 - val_loss: 0.4617 - val_accuracy: 0.8732\n",
      "Epoch 66/100\n",
      "125/125 [==============================] - 33s 262ms/step - loss: 0.2342 - accuracy: 0.9292 - val_loss: 0.4679 - val_accuracy: 0.8722\n",
      "Epoch 67/100\n",
      "125/125 [==============================] - 32s 256ms/step - loss: 0.2312 - accuracy: 0.9302 - val_loss: 0.4705 - val_accuracy: 0.8722\n",
      "Epoch 68/100\n",
      "125/125 [==============================] - 32s 257ms/step - loss: 0.2287 - accuracy: 0.9311 - val_loss: 0.4683 - val_accuracy: 0.8733\n",
      "Epoch 69/100\n",
      "125/125 [==============================] - 32s 255ms/step - loss: 0.2257 - accuracy: 0.9317 - val_loss: 0.4705 - val_accuracy: 0.8729\n",
      "Epoch 70/100\n",
      "125/125 [==============================] - 32s 258ms/step - loss: 0.2235 - accuracy: 0.9324 - val_loss: 0.4739 - val_accuracy: 0.8726\n",
      "Epoch 71/100\n",
      "125/125 [==============================] - 32s 255ms/step - loss: 0.2205 - accuracy: 0.9333 - val_loss: 0.4738 - val_accuracy: 0.8721\n",
      "Epoch 72/100\n",
      "125/125 [==============================] - 32s 253ms/step - loss: 0.2177 - accuracy: 0.9341 - val_loss: 0.4734 - val_accuracy: 0.8726\n",
      "Epoch 73/100\n",
      "125/125 [==============================] - 34s 273ms/step - loss: 0.2154 - accuracy: 0.9348 - val_loss: 0.4745 - val_accuracy: 0.8732\n",
      "Epoch 74/100\n",
      "125/125 [==============================] - 33s 266ms/step - loss: 0.2125 - accuracy: 0.9355 - val_loss: 0.4783 - val_accuracy: 0.8731\n",
      "Epoch 75/100\n",
      "125/125 [==============================] - 32s 258ms/step - loss: 0.2101 - accuracy: 0.9366 - val_loss: 0.4844 - val_accuracy: 0.8723\n",
      "Epoch 76/100\n",
      "125/125 [==============================] - 32s 258ms/step - loss: 0.2074 - accuracy: 0.9373 - val_loss: 0.4786 - val_accuracy: 0.8742\n",
      "Epoch 77/100\n",
      "125/125 [==============================] - 32s 257ms/step - loss: 0.2050 - accuracy: 0.9378 - val_loss: 0.4854 - val_accuracy: 0.8725\n",
      "Epoch 78/100\n",
      "125/125 [==============================] - 32s 259ms/step - loss: 0.2025 - accuracy: 0.9386 - val_loss: 0.4842 - val_accuracy: 0.8723\n",
      "Epoch 79/100\n",
      "125/125 [==============================] - 32s 255ms/step - loss: 0.2003 - accuracy: 0.9392 - val_loss: 0.4884 - val_accuracy: 0.8733\n",
      "Epoch 80/100\n",
      "125/125 [==============================] - 32s 260ms/step - loss: 0.1981 - accuracy: 0.9399 - val_loss: 0.4875 - val_accuracy: 0.8734\n",
      "Epoch 81/100\n",
      "125/125 [==============================] - 32s 253ms/step - loss: 0.1959 - accuracy: 0.9406 - val_loss: 0.4928 - val_accuracy: 0.8715\n",
      "Epoch 82/100\n",
      "125/125 [==============================] - 32s 256ms/step - loss: 0.1931 - accuracy: 0.9415 - val_loss: 0.4908 - val_accuracy: 0.8738\n",
      "Epoch 83/100\n",
      "125/125 [==============================] - 32s 258ms/step - loss: 0.1906 - accuracy: 0.9419 - val_loss: 0.4944 - val_accuracy: 0.8738\n",
      "Epoch 84/100\n",
      "125/125 [==============================] - 34s 268ms/step - loss: 0.1886 - accuracy: 0.9427 - val_loss: 0.4941 - val_accuracy: 0.8731\n",
      "Epoch 85/100\n",
      "125/125 [==============================] - 32s 254ms/step - loss: 0.1863 - accuracy: 0.9436 - val_loss: 0.4954 - val_accuracy: 0.8729\n",
      "Epoch 86/100\n",
      "125/125 [==============================] - 33s 267ms/step - loss: 0.1845 - accuracy: 0.9438 - val_loss: 0.4980 - val_accuracy: 0.8731\n",
      "Epoch 87/100\n",
      "125/125 [==============================] - 32s 257ms/step - loss: 0.1818 - accuracy: 0.9447 - val_loss: 0.5079 - val_accuracy: 0.8717\n",
      "Epoch 88/100\n",
      "125/125 [==============================] - 32s 255ms/step - loss: 0.1800 - accuracy: 0.9450 - val_loss: 0.5032 - val_accuracy: 0.8722\n",
      "Epoch 89/100\n",
      "125/125 [==============================] - 32s 255ms/step - loss: 0.1773 - accuracy: 0.9463 - val_loss: 0.5037 - val_accuracy: 0.8736\n",
      "Epoch 90/100\n",
      "125/125 [==============================] - 103s 828ms/step - loss: 0.1756 - accuracy: 0.9466 - val_loss: 0.5094 - val_accuracy: 0.8734\n",
      "Epoch 91/100\n",
      "125/125 [==============================] - 37s 300ms/step - loss: 0.1734 - accuracy: 0.9471 - val_loss: 0.5089 - val_accuracy: 0.8728\n",
      "Epoch 92/100\n",
      "125/125 [==============================] - 36s 289ms/step - loss: 0.1713 - accuracy: 0.9478 - val_loss: 0.5113 - val_accuracy: 0.8732\n",
      "Epoch 93/100\n",
      "125/125 [==============================] - 40s 321ms/step - loss: 0.1694 - accuracy: 0.9485 - val_loss: 0.5121 - val_accuracy: 0.8732\n",
      "Epoch 94/100\n",
      "125/125 [==============================] - 40s 320ms/step - loss: 0.1675 - accuracy: 0.9490 - val_loss: 0.5156 - val_accuracy: 0.8727\n",
      "Epoch 95/100\n",
      "125/125 [==============================] - 40s 323ms/step - loss: 0.1655 - accuracy: 0.9498 - val_loss: 0.5200 - val_accuracy: 0.8731\n",
      "Epoch 96/100\n",
      "125/125 [==============================] - 47s 376ms/step - loss: 0.1638 - accuracy: 0.9502 - val_loss: 0.5196 - val_accuracy: 0.8719\n",
      "Epoch 97/100\n",
      "125/125 [==============================] - 49s 395ms/step - loss: 0.1619 - accuracy: 0.9505 - val_loss: 0.5225 - val_accuracy: 0.8737\n",
      "Epoch 98/100\n",
      "125/125 [==============================] - 40s 322ms/step - loss: 0.1602 - accuracy: 0.9511 - val_loss: 0.5263 - val_accuracy: 0.8721\n",
      "Epoch 99/100\n",
      "125/125 [==============================] - 38s 301ms/step - loss: 0.1581 - accuracy: 0.9517 - val_loss: 0.5311 - val_accuracy: 0.8708\n",
      "Epoch 100/100\n",
      "125/125 [==============================] - 44s 351ms/step - loss: 0.1563 - accuracy: 0.9524 - val_loss: 0.5282 - val_accuracy: 0.8733\n"
     ]
    },
    {
     "name": "stderr",
     "output_type": "stream",
     "text": [
      "WARNING:absl:Found untraced functions such as _update_step_xla, lstm_cell_2_layer_call_fn, lstm_cell_2_layer_call_and_return_conditional_losses, lstm_cell_3_layer_call_fn, lstm_cell_3_layer_call_and_return_conditional_losses while saving (showing 5 of 5). These functions will not be directly callable after loading.\n"
     ]
    },
    {
     "name": "stdout",
     "output_type": "stream",
     "text": [
      "INFO:tensorflow:Assets written to: s2s\\assets\n"
     ]
    },
    {
     "name": "stderr",
     "output_type": "stream",
     "text": [
      "INFO:tensorflow:Assets written to: s2s\\assets\n"
     ]
    }
   ],
   "source": [
    "model.compile(optimizer=\"rmsprop\", loss=\"categorical_crossentropy\", metrics=['accuracy'])\n",
    "\n",
    "model.fit([encoder_input_data, decoder_input_data], decoder_target_data, batch_size=batch_size, epochs=epochs, validation_split=0.2)\n",
    "\n",
    "model.save(\"s2s\")"
   ]
  },
  {
   "cell_type": "code",
   "execution_count": null,
   "id": "d2ebc614",
   "metadata": {},
   "outputs": [],
   "source": []
  }
 ],
 "metadata": {
  "kernelspec": {
   "display_name": "base",
   "language": "python",
   "name": "python3"
  },
  "language_info": {
   "codemirror_mode": {
    "name": "ipython",
    "version": 3
   },
   "file_extension": ".py",
   "mimetype": "text/x-python",
   "name": "python",
   "nbconvert_exporter": "python",
   "pygments_lexer": "ipython3",
   "version": "3.9.12"
  },
  "vscode": {
   "interpreter": {
    "hash": "71a90e9b35f8e87162759fbe47fd818153bf77103b7d713a95e36b0ae145de1d"
   }
  }
 },
 "nbformat": 4,
 "nbformat_minor": 5
}
