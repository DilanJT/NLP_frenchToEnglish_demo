{
 "cells": [
  {
   "attachments": {},
   "cell_type": "markdown",
   "metadata": {},
   "source": [
    "### Understand the code step by step"
   ]
  },
  {
   "cell_type": "code",
   "execution_count": 1,
   "metadata": {},
   "outputs": [],
   "source": [
    "import numpy as np"
   ]
  },
  {
   "cell_type": "code",
   "execution_count": 8,
   "metadata": {},
   "outputs": [],
   "source": [
    "input_texts = ['hello Dilan', 'world', 'great to see you', 'never ending']\n",
    "target_texts = ['bonjour dilan', 'monde', 'content de te voir', 'sans fin']\n",
    "input_characters = set()\n",
    "target_characters = set()"
   ]
  },
  {
   "cell_type": "code",
   "execution_count": 12,
   "metadata": {},
   "outputs": [
    {
     "name": "stdout",
     "output_type": "stream",
     "text": [
      "16\n",
      "5\n"
     ]
    }
   ],
   "source": [
    "max_encoder_seq_length = max([len(txt) for txt in input_texts])\n",
    "print(max_encoder_seq_length)\n",
    "min_encoder_seq_length = min([len(txt) for txt in input_texts])\n",
    "print(min_encoder_seq_length)\n",
    "max_decoder_seq_length = max([len(txt) for txt in target_texts])"
   ]
  },
  {
   "cell_type": "code",
   "execution_count": 13,
   "metadata": {},
   "outputs": [
    {
     "name": "stdout",
     "output_type": "stream",
     "text": [
      "[' ', 'D', 'a', 'd', 'e', 'g', 'h', 'i', 'l', 'n', 'o', 'r', 's', 't', 'u', 'v', 'w', 'y']\n",
      "[' ', 'a', 'b', 'c', 'd', 'e', 'f', 'i', 'j', 'l', 'm', 'n', 'o', 'r', 's', 't', 'u', 'v']\n",
      "i, char ->  0  \n",
      "i, char ->  1 D\n",
      "i, char ->  2 a\n",
      "i, char ->  3 d\n",
      "i, char ->  4 e\n",
      "i, char ->  5 g\n",
      "i, char ->  6 h\n",
      "i, char ->  7 i\n",
      "i, char ->  8 l\n",
      "i, char ->  9 n\n",
      "i, char ->  10 o\n",
      "i, char ->  11 r\n",
      "i, char ->  12 s\n",
      "i, char ->  13 t\n",
      "i, char ->  14 u\n",
      "i, char ->  15 v\n",
      "i, char ->  16 w\n",
      "i, char ->  17 y\n"
     ]
    }
   ],
   "source": [
    "for input_text in input_texts:\n",
    "    for char in input_text:\n",
    "        if char not in input_characters:\n",
    "            input_characters.add(char)\n",
    "\n",
    "for target_text in target_texts:\n",
    "    for char in target_text:\n",
    "        if char not in target_characters:\n",
    "            target_characters.add(char)\n",
    "\n",
    "\n",
    "input_characters = sorted(list(input_characters))\n",
    "target_characters = sorted(list(target_characters))\n",
    "print(input_characters)\n",
    "print(target_characters)\n",
    "for i, char in enumerate(input_characters):\n",
    "    print(\"i, char -> \", i, char)"
   ]
  },
  {
   "cell_type": "code",
   "execution_count": 14,
   "metadata": {},
   "outputs": [
    {
     "name": "stdout",
     "output_type": "stream",
     "text": [
      "input_token_index ->  {' ': 0, 'D': 1, 'a': 2, 'd': 3, 'e': 4, 'g': 5, 'h': 6, 'i': 7, 'l': 8, 'n': 9, 'o': 10, 'r': 11, 's': 12, 't': 13, 'u': 14, 'v': 15, 'w': 16, 'y': 17}\n",
      "target_token_index ->  {' ': 0, 'a': 1, 'b': 2, 'c': 3, 'd': 4, 'e': 5, 'f': 6, 'i': 7, 'j': 8, 'l': 9, 'm': 10, 'n': 11, 'o': 12, 'r': 13, 's': 14, 't': 15, 'u': 16, 'v': 17}\n"
     ]
    }
   ],
   "source": [
    "input_token_index = dict([char, i] for i, char in enumerate(input_characters))\n",
    "target_token_index = dict([char, i] for i, char in enumerate(target_characters))\n",
    "\n",
    "print(\"input_token_index -> \", input_token_index)\n",
    "print(\"target_token_index -> \", target_token_index)\n"
   ]
  },
  {
   "cell_type": "code",
   "execution_count": 16,
   "metadata": {},
   "outputs": [
    {
     "name": "stdout",
     "output_type": "stream",
     "text": [
      "input texts length ->  4\n",
      "max encoder seq length ->  16\n",
      "num encoder tokens ->  18\n",
      "[[[0. 0. 0. ... 0. 0. 0.]\n",
      "  [0. 0. 0. ... 0. 0. 0.]\n",
      "  [0. 0. 0. ... 0. 0. 0.]\n",
      "  ...\n",
      "  [0. 0. 0. ... 0. 0. 0.]\n",
      "  [0. 0. 0. ... 0. 0. 0.]\n",
      "  [0. 0. 0. ... 0. 0. 0.]]\n",
      "\n",
      " [[0. 0. 0. ... 0. 0. 0.]\n",
      "  [0. 0. 0. ... 0. 0. 0.]\n",
      "  [0. 0. 0. ... 0. 0. 0.]\n",
      "  ...\n",
      "  [0. 0. 0. ... 0. 0. 0.]\n",
      "  [0. 0. 0. ... 0. 0. 0.]\n",
      "  [0. 0. 0. ... 0. 0. 0.]]\n",
      "\n",
      " [[0. 0. 0. ... 0. 0. 0.]\n",
      "  [0. 0. 0. ... 0. 0. 0.]\n",
      "  [0. 0. 0. ... 0. 0. 0.]\n",
      "  ...\n",
      "  [0. 0. 0. ... 0. 0. 0.]\n",
      "  [0. 0. 0. ... 0. 0. 0.]\n",
      "  [0. 0. 0. ... 0. 0. 0.]]\n",
      "\n",
      " [[0. 0. 0. ... 0. 0. 0.]\n",
      "  [0. 0. 0. ... 0. 0. 0.]\n",
      "  [0. 0. 0. ... 0. 0. 0.]\n",
      "  ...\n",
      "  [0. 0. 0. ... 0. 0. 0.]\n",
      "  [0. 0. 0. ... 0. 0. 0.]\n",
      "  [0. 0. 0. ... 0. 0. 0.]]]\n"
     ]
    }
   ],
   "source": [
    "num_encoder_tokens = len(input_characters)\n",
    "num_decoder_tokens = len(target_characters)\n",
    "\n",
    "encoder_input_data = np.zeros((len(input_texts), max_encoder_seq_length, num_encoder_tokens), dtype=\"float32\")\n",
    "decoder_input_data = np.zeros((len(input_texts), max_decoder_seq_length, num_decoder_tokens), dtype=\"float32\")\n",
    "decoder_target_data = np.zeros((len(input_texts), max_decoder_seq_length, num_decoder_tokens), dtype=\"float32\")\n",
    "\n",
    "print(\"input texts length -> \", len(input_texts))\n",
    "print(\"max encoder seq length -> \", max_encoder_seq_length)\n",
    "print(\"num encoder tokens -> \", num_encoder_tokens)\n",
    "print(encoder_input_data) # prints 4x16x17 array of zeros\n",
    "#meaning -> 4 dimensions, 16 rows & 17 columns"
   ]
  },
  {
   "cell_type": "code",
   "execution_count": 17,
   "metadata": {},
   "outputs": [
    {
     "name": "stdout",
     "output_type": "stream",
     "text": [
      "(('hello Dilan', 'bonjour dilan'), ('world', 'monde'), ('great to see you', 'content de te voir'), ('never ending', 'sans fin'))\n"
     ]
    }
   ],
   "source": [
    "print(tuple(zip(input_texts, target_texts)))"
   ]
  },
  {
   "cell_type": "code",
   "execution_count": null,
   "metadata": {},
   "outputs": [],
   "source": []
  }
 ],
 "metadata": {
  "kernelspec": {
   "display_name": "base",
   "language": "python",
   "name": "python3"
  },
  "language_info": {
   "codemirror_mode": {
    "name": "ipython",
    "version": 3
   },
   "file_extension": ".py",
   "mimetype": "text/x-python",
   "name": "python",
   "nbconvert_exporter": "python",
   "pygments_lexer": "ipython3",
   "version": "3.9.12"
  },
  "orig_nbformat": 4,
  "vscode": {
   "interpreter": {
    "hash": "71a90e9b35f8e87162759fbe47fd818153bf77103b7d713a95e36b0ae145de1d"
   }
  }
 },
 "nbformat": 4,
 "nbformat_minor": 2
}
